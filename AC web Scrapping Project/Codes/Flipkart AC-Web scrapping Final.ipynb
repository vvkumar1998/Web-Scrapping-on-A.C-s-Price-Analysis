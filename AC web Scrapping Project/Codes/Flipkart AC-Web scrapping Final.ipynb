{
 "cells": [
  {
   "cell_type": "code",
   "execution_count": 11,
   "id": "26a051a0",
   "metadata": {},
   "outputs": [],
   "source": [
    "import requests\n",
    "from bs4 import BeautifulSoup\n",
    "import re\n",
    "import pandas as pd\n",
    "import numpy as np\n",
    "import seaborn as sns\n",
    "import matplotlib.pyplot as plt"
   ]
  },
  {
   "cell_type": "code",
   "execution_count": 12,
   "id": "8eb6e951",
   "metadata": {},
   "outputs": [],
   "source": [
    "tvurl ='https://www.flipkart.com/search?q=ac&otracker=search&otracker1=search&marketplace=FLIPKART&as-show=off&as=off&page='\n",
    "Brand=[]\n",
    "Ton=[]\n",
    "Star=[]\n",
    "AC_type=[]\n",
    "Type=[]\n",
    "Color=[]\n",
    "Condenser_Coil=[]\n",
    "Noise=[]\n",
    "Power_Consumption=[]\n",
    "Refrigerant=[]\n",
    "Wi_Fi=[]\n",
    "Warranty=[]\n",
    "Ratings=[]\n",
    "Ratings_Count=[]\n",
    "Reviews_Count=[] \n",
    "Avg_star=[]\n",
    "Offer_Price=[]\n",
    "Actual_Price=[]\n",
    "for i in range(0,500):\n",
    "    tvurls=tvurl+str(i)\n",
    "    page=requests.get(tvurls)\n",
    "    soup = BeautifulSoup(page.text)\n",
    "    Specs=soup.find_all('div',class_='_4rR01T')\n",
    "    for i in Specs:\n",
    "        Brand.append(i.text[:re.search(r'\\s*\\d{1,2}\\.?\\d{0,3}\\s*[TONtonsS]{1,4}',str(i.text)).start()] if re.search(r'\\s*\\d{1,2}\\.?\\d{0,3}\\s*[TONtonsS]{1,4}',str(i.text))else np.nan)\n",
    "        Ton.append(re.findall(r'\\s*\\d{1,2}\\.?\\d{0,2}\\s*[Tt]ons?',str(i.text))[0] if re.search(r'\\s*\\d{1,2}\\.?\\d{0,2}\\s*[Tt]ons?',str(i.text)) else np.nan)\n",
    "        Star.append(re.findall(r'\\s*\\d\\.?\\d?\\s*[Ss]tars?',str(i.text))[0] if re.search(r'\\s*\\d\\.?\\d?\\s*[Ss]tars?',str(i.text)) else np.nan)\n",
    "#         Type.append(re.findall(r'[SsTARtar]{4,5}(.*[ACac]{2})',str(i.text))[0] if re.search(r'[SsTARtar]{4,5}(.*[ACac]{2})',str(i.text)) else np.nan)\n",
    "        Type.append(re.findall(r'((split|window|tower|portable)\\s*(dual|triple)*\\s*(fixed)*\\s*(inverter)*\\s*(speed)*\\s*(expandable)*\\s*(smart)*)',str(i.text).lower())[0][0]\n",
    "    if re.search(r'((split|window|tower|portable)\\s*(dual|triple)*\\s*(fixed)*\\s*(inverter)*\\s*(speed)*\\s*(expandable)*\\s*(smart)*)',str(i.text).lower()) else np.nan)\n",
    "        Color.append(re.findall(r'[Ac]{2}.*\\-\\s*(.*)',str(i.text).title())[0] if re.search(r'[Ac]{2}.*\\-\\s*(.*)',str(i.text).title()) else np.nan)\n",
    "    Features=soup.find_all('ul',class_='_1xgFaf')   \n",
    "    for i in Features:\n",
    "        Condenser_Coil.append(re.findall(r'Condenser Coil:\\s*(Copper|Aluminium|Alloy)',str(i.text))[0] if re.search(r'Condenser Coil:\\s*(Copper|Aluminium|Alloy)',str(i.text)) else np.nan)\n",
    "        Power_Consumption.append(re.findall(r'\\w{5}\\s*\\w*\\:\\s*\\d+\\s*\\.?\\s*\\d*\\s*[kWwhats]{1,6}',str(i.text))[0] if re.search(r'\\w{5}\\s*\\w*\\:\\s*\\d+\\s*\\.?\\s*\\d*\\s*[kWwhats]{1,6}',str(i.text)) else np.nan)\n",
    "        Noise.append(re.findall(r'\\w{5}\\s*\\w*\\:\\s*\\d+\\s*\\.?\\s*\\d*\\s*[bdBDsS]{2,4}',str(i.text))[0] if re.search(r'\\w{5}\\s*\\w*\\:\\s*\\d+\\s*\\.?\\s*\\d*\\s*[bdBDsS]{2,4}',str(i.text)) else np.nan)\n",
    "        Refrigerant.append(re.findall(r'Refrigerant\\s*\\:*\\s*R\\s*\\-*\\s*\\d+\\s*[AcCa]?',str(i.text))[0] if re.search(r'Refrigerant\\s*\\:*\\s*R\\s*\\-*\\s*\\d+\\s*[ACac]?',str(i.text)) else np.nan)\n",
    "        Wi_Fi.append(re.findall(r'[wiWI]{2}\\-*[fiFI]{2}\\s*\\w*\\s*\\:*\\s*[yesYESnoNO]{2,3}',str(i.text))[0] if re.search(r'[wiWI]{2}\\-*[fiFI]{2}\\s*\\w*\\s*\\:*\\s*[yesYESnoNO]{2,3}',str(i.text)) else np.nan)\n",
    "        Warranty.append(re.findall(r'[yesYESnoNO]{2,3}([0-9]+.*)',str(i.text))[0] if re.search(r'[yesYESnoNO]{2,3}([0-9]+.*)',str(i.text)) else np.nan)\n",
    "    Stars=soup.find_all('a',class_='_1fQZEK') \n",
    "    for i in Stars:\n",
    "        t=i.find('div',class_='_3LWZlK')\n",
    "        if t:\n",
    "            Avg_star.append(t.text)\n",
    "        else:\n",
    "            Avg_star.append(np.nan)\n",
    "    for i in Stars:\n",
    "        t=i.find('span',class_='_2_R_DZ')\n",
    "        if t:\n",
    "            Ratings.append(t.text)\n",
    "        else:\n",
    "            Ratings.append('nan')\n",
    "    Ratings_Count=pd.DataFrame(list(pd.Series(Ratings).str.split()))[0]\n",
    "    Reviews_Count=pd.DataFrame(list(pd.Series(Ratings).str.split()))[3]        \n",
    "    Price=soup.find_all('div',class_='_3tbKJL')  \n",
    "    for i in Price:\n",
    "        t=i.find('div',class_='_30jeq3 _1_WHN1')\n",
    "        if t:\n",
    "            Offer_Price.append(t.text)\n",
    "        else:\n",
    "            Offer_Price.append(np.nan)\n",
    "        s=i.find('div',class_='_3I9_wc _27UcVY')\n",
    "        if s:\n",
    "            Actual_Price.append(s.text)  \n",
    "        else:\n",
    "            Actual_Price.append(np.nan)\n",
    "            "
   ]
  },
  {
   "cell_type": "code",
   "execution_count": 13,
   "id": "7c870903",
   "metadata": {},
   "outputs": [],
   "source": [
    "AC={'Brands':Brand,'Ton':Ton,'Star':Star,'Type':Type,'Color':Color,'Condenser_Coil':Condenser_Coil,'Noise(dB)':Noise,\n",
    "'Power_Consumption':Power_Consumption,'Refrigerant':Refrigerant,'Wi_Fi Enabled':Wi_Fi,'Warranty':Warranty,'Ratings_Count':Ratings_Count,\n",
    "'Reviews_Count':Reviews_Count,'Avg_star':Avg_star,'Offer_Price':Offer_Price,'Actual_Price':Actual_Price}"
   ]
  },
  {
   "cell_type": "code",
   "execution_count": 14,
   "id": "ba7e1bea",
   "metadata": {},
   "outputs": [],
   "source": [
    "df=pd.DataFrame(AC)"
   ]
  },
  {
   "cell_type": "code",
   "execution_count": 19,
   "id": "11135a91",
   "metadata": {},
   "outputs": [
    {
     "data": {
      "text/plain": [
       "554"
      ]
     },
     "execution_count": 19,
     "metadata": {},
     "output_type": "execute_result"
    }
   ],
   "source": [
    "len(df)"
   ]
  },
  {
   "cell_type": "code",
   "execution_count": 20,
   "id": "ebdc874e",
   "metadata": {},
   "outputs": [],
   "source": [
    "# df.to_csv('AC_data.csv')"
   ]
  },
  {
   "cell_type": "code",
   "execution_count": 21,
   "id": "f937df90",
   "metadata": {},
   "outputs": [],
   "source": [
    "# df.to_excel(r'E:\\KIRAN\\INNOMATICS\\AC Scrapping data.xlsx')"
   ]
  },
  {
   "cell_type": "code",
   "execution_count": null,
   "id": "95fd000a",
   "metadata": {},
   "outputs": [],
   "source": []
  }
 ],
 "metadata": {
  "kernelspec": {
   "display_name": "Python 3",
   "language": "python",
   "name": "python3"
  },
  "language_info": {
   "codemirror_mode": {
    "name": "ipython",
    "version": 3
   },
   "file_extension": ".py",
   "mimetype": "text/x-python",
   "name": "python",
   "nbconvert_exporter": "python",
   "pygments_lexer": "ipython3",
   "version": "3.8.8"
  }
 },
 "nbformat": 4,
 "nbformat_minor": 5
}
