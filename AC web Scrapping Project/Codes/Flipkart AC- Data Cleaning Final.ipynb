{
 "cells": [
  {
   "cell_type": "code",
   "execution_count": 2,
   "id": "2fda3ed5",
   "metadata": {},
   "outputs": [],
   "source": [
    "import requests\n",
    "from bs4 import BeautifulSoup\n",
    "import re\n",
    "import pandas as pd\n",
    "import numpy as np\n",
    "import seaborn as sns\n",
    "import matplotlib.pyplot as plt\n",
    "from math import * \n",
    "from statistics import *\n",
    "from collections import *\n",
    "from itertools import *"
   ]
  },
  {
   "cell_type": "code",
   "execution_count": 3,
   "id": "86073b88",
   "metadata": {},
   "outputs": [],
   "source": [
    "df=pd.read_csv('AC_data.csv')"
   ]
  },
  {
   "cell_type": "code",
   "execution_count": 4,
   "id": "d2acc91d",
   "metadata": {},
   "outputs": [],
   "source": [
    "df.drop(['Unnamed: 0'],axis=1,inplace=True)"
   ]
  },
  {
   "cell_type": "code",
   "execution_count": 5,
   "id": "c0b447d6",
   "metadata": {},
   "outputs": [],
   "source": [
    "df=df.drop_duplicates().reset_index(drop=True)"
   ]
  },
  {
   "cell_type": "code",
   "execution_count": 6,
   "id": "283a240a",
   "metadata": {},
   "outputs": [
    {
     "data": {
      "text/plain": [
       "554"
      ]
     },
     "execution_count": 6,
     "metadata": {},
     "output_type": "execute_result"
    }
   ],
   "source": [
    "len(df)"
   ]
  },
  {
   "cell_type": "code",
   "execution_count": 7,
   "id": "5b06a57c",
   "metadata": {},
   "outputs": [
    {
     "data": {
      "text/plain": [
       "Brands                 0\n",
       "Ton                    0\n",
       "Star                  15\n",
       "Type                   0\n",
       "Color                  9\n",
       "Condenser_Coil        34\n",
       "Noise(dB)             38\n",
       "Power_Consumption     37\n",
       "Refrigerant          166\n",
       "Wi_Fi Enabled          2\n",
       "Warranty              30\n",
       "Ratings_Count        162\n",
       "Reviews_Count        162\n",
       "Avg_star             162\n",
       "Offer_Price            0\n",
       "Actual_Price           7\n",
       "dtype: int64"
      ]
     },
     "execution_count": 7,
     "metadata": {},
     "output_type": "execute_result"
    }
   ],
   "source": [
    "df.isna().sum()"
   ]
  },
  {
   "cell_type": "code",
   "execution_count": 8,
   "id": "437370b3",
   "metadata": {},
   "outputs": [],
   "source": [
    "df.rename(columns={'Power_Consumption':'Power_Consumption(kWh)','Offer_Price':'Offer_Price(₹)','Actual_Price':'Actual_Price(₹)'},inplace=True)"
   ]
  },
  {
   "cell_type": "code",
   "execution_count": 9,
   "id": "fd054cb7",
   "metadata": {},
   "outputs": [],
   "source": [
    "Brands=[]\n",
    "for i in df['Brands']:\n",
    "    if 'Blue Star' in i:\n",
    "        Brands.append(' '.join(i.split()[0:2]))\n",
    "    elif 'O General' in i:\n",
    "        Brands.append('O General')\n",
    "    elif 'White Westing House' in i:\n",
    "        Brands.append('White Westing House')\n",
    "    else:\n",
    "        Brands.append(i.split()[0])\n",
    "df['Brands']=Brands\n",
    "df['Brands']=df['Brands'].str.title()"
   ]
  },
  {
   "cell_type": "code",
   "execution_count": 10,
   "id": "534da18d",
   "metadata": {},
   "outputs": [],
   "source": [
    "df['Ton']=df['Ton'].replace(to_replace='[a-zA-Z\\s]',value='',regex=True)\n",
    "df['Ton']=df['Ton'].astype(str).str.strip()\n",
    "T={}\n",
    "ton_mode={}\n",
    "for i in range(len(df['Brands'])):\n",
    "    T.setdefault(df['Brands'][i],[]).append(df['Ton'][i])\n",
    "for i in T:\n",
    "    ton_mode[i]=mode(T[i])    \n",
    "to=[]\n",
    "for i,j in zip(df['Brands'],df['Ton']):\n",
    "        if re.search(r'\\d',str(j)):\n",
    "            to.append(float(j))\n",
    "        else :\n",
    "            to.append(float(ton_mode[i]))\n",
    "df['Ton']=to\n",
    "df['Ton']=df['Ton'].fillna(mode(to))"
   ]
  },
  {
   "cell_type": "code",
   "execution_count": 11,
   "id": "6dee2169",
   "metadata": {},
   "outputs": [],
   "source": [
    "df['Star']=df['Star'].replace(to_replace='[a-zA-Z\\s]',value='',regex=True)\n",
    "df['Star']=df['Star'].astype(str).str.strip()\n",
    "St={}\n",
    "star_mode={}\n",
    "for i in range(len(df['Brands'])):\n",
    "    St.setdefault(df['Brands'][i],[]).append(df['Star'][i])\n",
    "for i in St:\n",
    "    star_mode[i]=mode(St[i])   \n",
    "sta=[]\n",
    "for i,j in zip(df['Brands'],df['Star']):\n",
    "    if re.search(r'\\d',str(j)):\n",
    "        sta.append(float(j))\n",
    "    else :\n",
    "        sta.append(float(star_mode[i]))\n",
    "df['Star']=sta\n",
    "star=mode(sta)\n",
    "df['Star'].fillna(star,inplace=True)"
   ]
  },
  {
   "cell_type": "code",
   "execution_count": 12,
   "id": "1c793409",
   "metadata": {},
   "outputs": [],
   "source": [
    "df['Type']=df['Type'].astype(str).str.strip().str.title()\n",
    "Ty={}\n",
    "type_mode={}\n",
    "for i in range(len(df['Brands'])):\n",
    "    Ty.setdefault(df['Brands'][i],[]).append(df['Type'][i])\n",
    "for i in Ty:\n",
    "    type_mode[i]=Counter(Ty[i]).most_common(2) \n",
    "typer={}\n",
    "for i in type_mode:\n",
    "    if type_mode[i][0][0]!='nan':\n",
    "        typer[i]=type_mode[i][0][0]  \n",
    "    elif ((type_mode[i][0][0]=='nan') and (len(type_mode[i])>1)):\n",
    "         typer[i]=type_mode[i][1][0]\n",
    "types=[]\n",
    "for i,j in zip(df['Brands'],df['Type']):\n",
    "    if j!='nan':\n",
    "        types.append(j)\n",
    "    else:\n",
    "        types.append(typer.get(i,'nan'))         \n",
    "df['Type']=types\n",
    "typex=[]\n",
    "for i in df['Type']:\n",
    "    if i=='nan':\n",
    "        typex.append(np.nan)\n",
    "    else:\n",
    "        typex.append(i)\n",
    "df['Type']=typex \n",
    "df['Type'].fillna('Split Inverter',inplace=True)"
   ]
  },
  {
   "cell_type": "code",
   "execution_count": 13,
   "id": "50bf8ccf",
   "metadata": {},
   "outputs": [],
   "source": [
    "df['Color']=df['Color'].replace(to_replace=['W...','Whi...'],value='White',regex=True).astype(str).str.strip()\n",
    "Co={}\n",
    "Co_mode={}\n",
    "for i in range(len(df['Brands'])):\n",
    "    Co.setdefault(df['Brands'][i],[]).append(df['Color'][i])\n",
    "for i in Co:\n",
    "    Co_mode[i]=Counter(Co[i]).most_common(2) \n",
    "Col={}\n",
    "for i in Co_mode:\n",
    "    if Co_mode[i][0][0]!='nan':\n",
    "        Col[i]=Co_mode[i][0][0]  \n",
    "    elif ((Co_mode[i][0][0]=='nan') and (len(Co_mode[i])>1)):\n",
    "         Col[i]=Co_mode[i][1][0]\n",
    "cols=[]\n",
    "for i,j in zip(df['Brands'],df['Color']):\n",
    "    if j!='nan':\n",
    "        cols.append(j)\n",
    "    else:\n",
    "        cols.append(Col.get(i,'nan'))  \n",
    "df['Color']=cols\n",
    "color=[]\n",
    "for i in df['Color']:\n",
    "    if i=='nan':\n",
    "        color.append(np.nan)\n",
    "    else:\n",
    "        color.append(i)\n",
    "df['Color']=color  \n",
    "df['Color'].fillna('White',inplace=True)\n",
    "colors=[]\n",
    "for i in df['Color']:\n",
    "    if i=='Whitee':\n",
    "        colors.append('White') \n",
    "    else:\n",
    "        colors.append(i)\n",
    "df['Color']=colors        "
   ]
  },
  {
   "cell_type": "code",
   "execution_count": 14,
   "id": "441d600b",
   "metadata": {},
   "outputs": [],
   "source": [
    "df['Condenser_Coil']=df['Condenser_Coil'].astype(str).str.strip()\n",
    "Con=defaultdict(list)\n",
    "Con_mode={}\n",
    "for i in range(len(df['Brands'])):\n",
    "    Con[df['Brands'][i]].append(df['Condenser_Coil'][i])\n",
    "for i in Con:\n",
    "    Con_mode[i]=Counter(Con[i]).most_common(2)\n",
    "Cond={}\n",
    "for i in Con_mode:\n",
    "    if Con_mode[i][0][0]!='nan':\n",
    "        Cond[i]=Con_mode[i][0][0]  \n",
    "    elif ((Con_mode[i][0][0]=='nan') and (len(Con_mode[i])>1)):\n",
    "         Cond[i]=Con_mode[i][1][0] \n",
    "cons=[]\n",
    "for i,j in zip(df['Brands'],df['Condenser_Coil']):\n",
    "    if j!='nan':\n",
    "        cons.append(j)\n",
    "    else:\n",
    "        cons.append(Cond.get(i,'nan')) \n",
    "df['Condenser_Coil']=cons\n",
    "conds=[]\n",
    "for i in df['Condenser_Coil']:\n",
    "    if i=='nan':\n",
    "        conds.append(np.nan)\n",
    "    else:\n",
    "        conds.append(i)  \n",
    "df['Condenser_Coil']=conds\n",
    "df['Condenser_Coil'].fillna('Copper',inplace=True)"
   ]
  },
  {
   "cell_type": "code",
   "execution_count": 15,
   "id": "30e97a29",
   "metadata": {},
   "outputs": [],
   "source": [
    "df['Noise(dB)']=df['Noise(dB)'].replace(to_replace='Noise level:|\\s*dB|\\s*db',value='',regex=True)\n",
    "df['Noise(dB)']=df['Noise(dB)'].str.strip()\n",
    "df['Noise(dB)']=df['Noise(dB)'].astype(float)\n",
    "N=df.groupby(['Brands','Type'])['Noise(dB)'].median().to_dict()\n",
    "No=[]\n",
    "for i,j,l in zip(df['Brands'],df['Type'],df['Noise(dB)']):\n",
    "    if re.search('\\d',str(l)):\n",
    "        No.append(l)\n",
    "    else:\n",
    "        No.append(N[(i,j)])        \n",
    "df['Noise(dB)']=No\n",
    "nois=np.nanmedian(No)\n",
    "df['Noise(dB)'].fillna(nois,inplace=True)\n",
    "df['Noise(dB)']=df['Noise(dB)'].round()"
   ]
  },
  {
   "cell_type": "code",
   "execution_count": 16,
   "id": "76e67777",
   "metadata": {},
   "outputs": [],
   "source": [
    "df['Power_Consumption(kWh)']=df['Power_Consumption(kWh)'].replace(to_replace='Power Consumption:',value='',regex=True)\n",
    "df['Power_Consumption(kWh)']=df['Power_Consumption(kWh)'].replace(to_replace='kWh',value='kwh',regex=True)\n",
    "#to convert to kWh- EER standard Hours=1600,running temp=27C humidity=50% ambient temp=35C\n",
    "df['Power_Consumption(kWh)']=df['Power_Consumption(kWh)'].str.strip()\n",
    "pow=[]\n",
    "for val in df['Power_Consumption(kWh)']:\n",
    "    if re.search(r'(W|WW)',str(val)):\n",
    "        pow.append(float(val.split()[0])*1.6) #to convert to kWh\n",
    "    elif re.search(r'kwh',str(val)):\n",
    "        pow.append(float(val.split()[0])*1)\n",
    "    else:\n",
    "        pow.append(np.nan)\n",
    "df['Power_Consumption(kWh)']=pow   \n",
    "powe=df.groupby(['Brands','Ton','Star','Type'])['Power_Consumption(kWh)'].median().to_dict()\n",
    "power=[]\n",
    "for i,j,k,l,m in zip(df['Brands'],df['Ton'],df['Star'],df['Type'],df['Power_Consumption(kWh)']):\n",
    "    if re.search('\\d',str(m)):\n",
    "        power.append(m)\n",
    "    else:\n",
    "        power.append(powe[(i,j,k,l)])\n",
    "df['Power_Consumption(kWh)']=power   \n",
    "powe1=df.groupby(['Brands','Ton','Star'])['Power_Consumption(kWh)'].median().to_dict()\n",
    "power1=[]\n",
    "for i,j,k,m in zip(df['Brands'],df['Ton'],df['Star'],df['Power_Consumption(kWh)']):\n",
    "    if re.search('\\d',str(m)):\n",
    "        power1.append(m)\n",
    "    else:\n",
    "        power1.append(powe1[(i,j,k)])\n",
    "df['Power_Consumption(kWh)']=power1      \n",
    "powe2=df.groupby(['Star'])['Power_Consumption(kWh)'].median().to_dict()\n",
    "power2=[]\n",
    "for k,m in zip(df['Star'],df['Power_Consumption(kWh)']):\n",
    "    if re.search('\\d',str(m)):\n",
    "        power2.append(m)\n",
    "    else:\n",
    "        power2.append(powe2[k])\n",
    "df['Power_Consumption(kWh)']=power2    \n",
    "df['Power_Consumption(kWh)']=df['Power_Consumption(kWh)'].round()"
   ]
  },
  {
   "cell_type": "code",
   "execution_count": 17,
   "id": "dccf628a",
   "metadata": {},
   "outputs": [],
   "source": [
    "df['Refrigerant']=df['Refrigerant'].replace(to_replace='Refrigerant:',value='',regex=True)\n",
    "df['Refrigerant']=df['Refrigerant'].replace(to_replace='[\\-\\s]',value='',regex=True).astype(str).str.upper()\n",
    "Ref=defaultdict(list)\n",
    "Ref_mode={}\n",
    "for i in range(len(df['Brands'])):\n",
    "    Ref[df['Brands'][i]].append(df['Refrigerant'][i])\n",
    "for i in Ref:\n",
    "    Ref_mode[i]=Counter(Ref[i]).most_common(2)    \n",
    "cool={}\n",
    "for i in Ref_mode:\n",
    "    if Ref_mode[i][0][0]!='NAN':\n",
    "        cool[i]=Ref_mode[i][0][0]  \n",
    "    elif ((Ref_mode[i][0][0]=='NAN') and (len(Ref_mode[i])>1)):\n",
    "         cool[i]=Ref_mode[i][1][0] \n",
    "refs=[]\n",
    "for i,j in zip(df['Brands'],df['Refrigerant']):\n",
    "    if j!='NAN':\n",
    "        refs.append(j)\n",
    "    else:\n",
    "        refs.append(cool.get(i,'NAN')) \n",
    "df['Refrigerant']=refs   \n",
    "refris=[]\n",
    "for i in df['Refrigerant']:\n",
    "    if i=='NAN':\n",
    "        refris.append(np.nan)\n",
    "    else:\n",
    "        refris.append(i)      \n",
    "df['Refrigerant']=refris     \n",
    "df['Refrigerant'].fillna('R32',inplace=True)"
   ]
  },
  {
   "cell_type": "code",
   "execution_count": 18,
   "id": "e834ad2d",
   "metadata": {},
   "outputs": [],
   "source": [
    "df['Warranty']=df['Warranty'].astype(str).str.strip()\n",
    "wa=defaultdict(list)\n",
    "wa_mode={}\n",
    "for i in range(len(df['Brands'])):\n",
    "    wa[df['Brands'][i]].append(df['Warranty'][i])\n",
    "for i in wa:\n",
    "    wa_mode[i]=Counter(wa[i]).most_common(2)\n",
    "war={}\n",
    "for i in wa_mode:\n",
    "    if wa_mode[i][0][0]!='nan':\n",
    "        war[i]=wa_mode[i][0][0]  \n",
    "    elif ((wa_mode[i][0][0]=='nan') and (len(wa_mode[i])>1)):\n",
    "         war[i]=wa_mode[i][1][0]   \n",
    "wars=[]\n",
    "for i,j in zip(df['Brands'],df['Warranty']):\n",
    "    if j!='nan':\n",
    "        wars.append(j)\n",
    "    else:\n",
    "        wars.append(war.get(i,'nan'))  \n",
    "df['Warranty']=wars   \n",
    "warans=[]\n",
    "for i in df['Warranty']:\n",
    "    if i=='nan':\n",
    "        warans.append(np.nan)\n",
    "    else:\n",
    "        warans.append(i) \n",
    "df['Warranty']=warans     \n",
    "df['Warranty'].fillna('1 Year on Product',inplace=True)"
   ]
  },
  {
   "cell_type": "code",
   "execution_count": 19,
   "id": "aa7faed3",
   "metadata": {},
   "outputs": [
    {
     "data": {
      "text/plain": [
       "Index(['Brands', 'Ton', 'Star', 'Type', 'Color', 'Condenser_Coil', 'Noise(dB)',\n",
       "       'Power_Consumption(kWh)', 'Refrigerant', 'Wi_Fi Enabled', 'Warranty',\n",
       "       'Ratings_Count', 'Reviews_Count', 'Avg_star', 'Offer_Price(₹)',\n",
       "       'Actual_Price(₹)'],\n",
       "      dtype='object')"
      ]
     },
     "execution_count": 19,
     "metadata": {},
     "output_type": "execute_result"
    }
   ],
   "source": [
    "df.columns"
   ]
  },
  {
   "cell_type": "code",
   "execution_count": 20,
   "id": "96e5aab2",
   "metadata": {},
   "outputs": [],
   "source": [
    "df['Ratings_Count'] = df['Ratings_Count'].replace(to_replace=',',value='',regex=True)\n",
    "df['Ratings_Count'] = df['Ratings_Count'].astype(str).str.strip()\n",
    "df['Ratings_Count'] = df['Ratings_Count'].apply(lambda x:float(x))\n",
    "Ratings_values=df.groupby(['Brands','Type'])['Ratings_Count'].min().to_dict()\n",
    "Ra=[]\n",
    "for i,j,k in zip(df['Brands'],df['Type'],df['Ratings_Count']):\n",
    "    if re.search('\\d',str(k)):\n",
    "        Ra.append(k)\n",
    "    else:\n",
    "        Ra.append(Ratings_values[(i,j)])        \n",
    "df['Ratings_Count']=Ra\n",
    "df['Ratings_Count'].fillna(0,inplace=True)"
   ]
  },
  {
   "cell_type": "code",
   "execution_count": 21,
   "id": "99275e21",
   "metadata": {},
   "outputs": [],
   "source": [
    "df['Reviews_Count'] = df['Reviews_Count'].replace(to_replace=',',value='',regex=True)\n",
    "df['Reviews_Count'] = df['Reviews_Count'].astype(str).str.strip()\n",
    "df['Reviews_Count'] = df['Reviews_Count'].apply(lambda x:float(x))\n",
    "Reviews_values=df.groupby(['Brands','Type'])['Reviews_Count'].min().to_dict()\n",
    "Re=[]\n",
    "for i,j,k in zip(df['Brands'],df['Type'],df['Reviews_Count']):\n",
    "    if re.search('\\d',str(k)):\n",
    "        Re.append(k)\n",
    "    else:\n",
    "        Re.append(Reviews_values[(i,j)])      \n",
    "df['Reviews_Count']=Re\n",
    "df['Reviews_Count'].fillna(0,inplace=True)"
   ]
  },
  {
   "cell_type": "code",
   "execution_count": 22,
   "id": "66197313",
   "metadata": {},
   "outputs": [],
   "source": [
    "df['Avg_star'] = df['Avg_star'].replace(to_replace=',',value='',regex=True)\n",
    "df['Avg_star'] = df['Avg_star'].astype(str).str.strip()\n",
    "df['Avg_star'] = df['Avg_star'].apply(lambda x:float(x))\n",
    "Avg_star=df.groupby(['Brands','Ton','Star','Type','Noise(dB)'])['Avg_star'].min().to_dict()\n",
    "Ave=[]\n",
    "for i,j,k,l,m,n in zip(df['Brands'],df['Ton'],df['Star'],df['Type'],df['Noise(dB)'],df['Avg_star']):\n",
    "    if re.search('\\d',str(n)):\n",
    "        Ave.append(n)\n",
    "    else:\n",
    "        Ave.append(Avg_star[(i,j,k,l,m)])     \n",
    "df['Avg_star']=Ave\n",
    "df['Avg_star'].fillna(0,inplace=True)"
   ]
  },
  {
   "cell_type": "code",
   "execution_count": 23,
   "id": "441d1a7a",
   "metadata": {},
   "outputs": [],
   "source": [
    "df['Offer_Price(₹)'] = df['Offer_Price(₹)'].replace(to_replace='[\\,\\s₹]',value='',regex=True)\n",
    "df['Offer_Price(₹)'] = df['Offer_Price(₹)'].astype(str).str.strip()\n",
    "df['Offer_Price(₹)'] = df['Offer_Price(₹)'].astype(float)\n",
    "offe=df.groupby(['Brands','Ton','Star','Type','Refrigerant'])['Offer_Price(₹)'].median().to_dict()\n",
    "offer=[]\n",
    "for i,j,k,l,m,n in zip(df['Brands'],df['Ton'],df['Star'],df['Type'],df['Refrigerant'],df['Offer_Price(₹)']):\n",
    "    if re.search('\\d',str(n)):\n",
    "        offer.append(n)\n",
    "    else:\n",
    "        offer.append(offe[(i,j,k,l,m)])\n",
    "df['Offer_Price(₹)'] =offer \n",
    "offe1=df.groupby(['Brands','Ton','Star'])['Offer_Price(₹)'].median().to_dict()\n",
    "offer1=[]\n",
    "for i,j,k,n in zip(df['Brands'],df['Ton'],df['Star'],df['Offer_Price(₹)']):\n",
    "    if re.search('\\d',str(n)):\n",
    "        offer1.append(n)\n",
    "    else:\n",
    "        offer1.append(offe1[(i,j,k)])\n",
    "df['Offer_Price(₹)'] =offer1"
   ]
  },
  {
   "cell_type": "code",
   "execution_count": 24,
   "id": "ca4a03b3",
   "metadata": {},
   "outputs": [],
   "source": [
    "df['Actual_Price(₹)'] = df['Actual_Price(₹)'].replace(to_replace='[,₹]',value='',regex=True)\n",
    "df['Actual_Price(₹)'] = df['Actual_Price(₹)'].astype(str).str.strip()\n",
    "df['Actual_Price(₹)'] = df['Actual_Price(₹)'].astype(float)\n",
    "Actu=[]\n",
    "for i in range(len(df)):\n",
    "    if re.search('\\d',str(df['Actual_Price(₹)'][i])):\n",
    "        Actu.append(df['Actual_Price(₹)'][i])\n",
    "    else:\n",
    "        Actu.append(df['Offer_Price(₹)'][i])\n",
    "df['Actual_Price(₹)']=Actu"
   ]
  },
  {
   "cell_type": "code",
   "execution_count": 25,
   "id": "ab435384",
   "metadata": {},
   "outputs": [],
   "source": [
    "df['Wi_Fi Enabled']=df['Wi_Fi Enabled'].replace(to_replace='Wi-Fi Enabled:',value='',regex=True)\n",
    "df['Wi_Fi Enabled']=df['Wi_Fi Enabled'].replace(to_replace='[\\s]',value='',regex=True).str.strip()\n",
    "wi=defaultdict(list)\n",
    "wi_mode={}\n",
    "for i in range(len(df['Brands'])):\n",
    "    wi[df['Brands'][i]].append(df['Wi_Fi Enabled'][i])\n",
    "for i in wi:\n",
    "    wi_mode[i]=mode(wi[i])\n",
    "wis=[]\n",
    "for i in df['Wi_Fi Enabled']:\n",
    "    if re.search(r'[nanNAN]{2,3}',str(i)):\n",
    "        wis.append(np.nan)\n",
    "    else:\n",
    "        wis.append(i)\n",
    "df['Wi_Fi Enabled']=wis        \n",
    "net=[]\n",
    "for i,m in zip(df['Brands'],df['Wi_Fi Enabled']):\n",
    "    if isinstance(m,str):\n",
    "        net.append(m)\n",
    "    else:\n",
    "        net.append(wi_mode[i]) \n",
    "df['Wi_Fi Enabled']=net\n",
    "df['Wi_Fi Enabled'].fillna('No',inplace=True)"
   ]
  },
  {
   "cell_type": "code",
   "execution_count": 26,
   "id": "9ea4fd14",
   "metadata": {},
   "outputs": [],
   "source": [
    "df['Offer_Price_Range(₹)']=pd.cut(df['Offer_Price(₹)'],[20000,25000,30000, 35000, 40000, 45000, 50000, 55000,60000, 65000, 70000, 75000, 80000, 85000, 90000, 95000,\n",
    "       100000,105000,110000,115000,120000,125000],labels=['(20000,25000]','(25000,30000]','(30000,35000]','(35000,40000]','(40000,45000]','(45000,50000]','(50000,55000]',\n",
    "                                                               '(55000,60000]','(60000,65000]','(65000,70000]','(70000,75000]','(75000,80000]','(80000,85000]','(85000,90000]',\n",
    "                                                               '(90000,95000]','(95000,100000]','(100000,105000]','(105000,110000]','(110000,115000]','(115000,120000]','(120000,125000]'])"
   ]
  },
  {
   "cell_type": "code",
   "execution_count": 27,
   "id": "53309e76",
   "metadata": {},
   "outputs": [],
   "source": [
    "df['Act_Price_Range(₹)']=pd.cut(df['Actual_Price(₹)'],[20000,25000,30000, 35000, 40000, 45000, 50000, 55000,60000, 65000, 70000, 75000, 80000, 85000, 90000, 95000,\n",
    "       100000,105000,110000,115000,120000,125000],labels=['(20000,25000]','(25000,30000]','(30000,35000]','(35000,40000]','(40000,45000]','(45000,50000]','(50000,55000]',\n",
    "                                                               '(55000,60000]','(60000,65000]','(65000,70000]','(70000,75000]','(75000,80000]','(80000,85000]','(85000,90000]',\n",
    "                                                               '(90000,95000]','(95000,100000]','(100000,105000]','(105000,110000]','(110000,115000]','(115000,120000]','(120000,125000)'])"
   ]
  },
  {
   "cell_type": "code",
   "execution_count": 28,
   "id": "a2c7d2b4",
   "metadata": {},
   "outputs": [],
   "source": [
    "df['Power_Range(kWh)']=pd.cut(df['Power_Consumption(kWh)'],[x for x in range(0,11100,500)],labels=['(0,500]','(500,1000]',\n",
    "                 '(1000,1500]','(1500,2000]','(2000,2500]','(2500,3000]','(3000,3500]','(3500,4000]','(4000,4500]',\n",
    " '(4500,5000]','(5000,5500]','(5500,6000]','(6000,6500]','(6500,7000]','(7000,7500]','(7500,8000]','(8000,8500]','(8500,9000]','(9000,9500]',\n",
    " '(9500,10000]','(10000,10500]','(10500,11000]'])"
   ]
  },
  {
   "cell_type": "code",
   "execution_count": 77,
   "id": "eb310d33",
   "metadata": {},
   "outputs": [],
   "source": [
    "qp1=np.percentile(df['Power_Consumption(kWh)'],25)\n",
    "qp3=np.percentile(df['Power_Consumption(kWh)'],75)\n",
    "IQRp=(qp3-qp1)\n",
    "upperp=qp3+(1.5*IQRp)\n",
    "lowerp=qp1-(1.5*IQRp)"
   ]
  },
  {
   "cell_type": "code",
   "execution_count": 78,
   "id": "8b012b32",
   "metadata": {},
   "outputs": [],
   "source": [
    "df=df[~((df['Power_Consumption(kWh)']<lowerp)|(df['Power_Consumption(kWh)']>upperp))]\n"
   ]
  },
  {
   "cell_type": "code",
   "execution_count": 79,
   "id": "c0630fe0",
   "metadata": {},
   "outputs": [],
   "source": [
    "qn1=np.percentile(df['Noise(dB)'],25)\n",
    "qn3=np.percentile(df['Noise(dB)'],75)\n",
    "IQRn=(qn3-qn1)\n",
    "uppern=qn3+(1.5*IQRn)\n",
    "lowern=qn1-(1.5*IQRn)"
   ]
  },
  {
   "cell_type": "code",
   "execution_count": 91,
   "id": "5153e717",
   "metadata": {},
   "outputs": [],
   "source": [
    "df=df[~((df['Noise(dB)']<lowern)|(df['Noise(dB)']>uppern))]"
   ]
  },
  {
   "cell_type": "code",
   "execution_count": 92,
   "id": "68599f3f",
   "metadata": {},
   "outputs": [],
   "source": [
    "qo1=np.percentile(df['Offer_Price(₹)'],25)\n",
    "qo3=np.percentile(df['Offer_Price(₹)'],75)\n",
    "IQRo=(qo3-qo1)\n",
    "uppero=qo3+(1.5*IQRo)\n",
    "lowero=qo1-(1.5*IQRo)"
   ]
  },
  {
   "cell_type": "code",
   "execution_count": 93,
   "id": "fec95c3a",
   "metadata": {},
   "outputs": [],
   "source": [
    "df=df[~((df['Offer_Price(₹)']<lowero)|(df['Offer_Price(₹)']>uppero))]"
   ]
  },
  {
   "cell_type": "code",
   "execution_count": 97,
   "id": "d4e552d9",
   "metadata": {},
   "outputs": [],
   "source": [
    "# df.to_csv('AC_Data_Cleaned.csv')\n",
    "# df.to_csv('AC_Data_Cleaned.csv',index=False) # we don't get the unnamed:0 column"
   ]
  },
  {
   "cell_type": "code",
   "execution_count": 98,
   "id": "d70e82a0",
   "metadata": {},
   "outputs": [],
   "source": [
    "# df.to_excel('E:\\KIRAN\\INNOMATICS\\AC Data Cleaned.xlsx')"
   ]
  },
  {
   "cell_type": "code",
   "execution_count": 55,
   "id": "e5e06bea",
   "metadata": {},
   "outputs": [],
   "source": [
    "# df1=df.groupby(['Brands','Wi_Fi Enabled'])['Offer_Price(₹)'].mean().round().to_frame()\n",
    "# df1.reset_index(inplace=True)\n",
    "# Suppose to fill the wifi with yes or no based on brands and mean/median price create 2 dfs with df1=df[df['wifi'].isna] & \n",
    "# df2=df[~df['wifi'].isna]\n",
    "# make the changes in df2 as below\n",
    "# brand = input()\n",
    "# price = float(input())\n",
    "# df[(df['Brands'] == brand)&(df['Offer_Price(₹)'] < 35608.0)]['Wi_Fi Enabled'] = 'No'\n",
    "# df[(df['Brands'] == brand)&(df['Offer_Price(₹)'] > 35859.0)]['Wi_Fi Enabled'] = 'Yes'\n",
    "\n",
    "# then concate both df1&df2"
   ]
  },
  {
   "cell_type": "code",
   "execution_count": null,
   "id": "d69eb36d",
   "metadata": {},
   "outputs": [],
   "source": []
  }
 ],
 "metadata": {
  "kernelspec": {
   "display_name": "Python 3",
   "language": "python",
   "name": "python3"
  },
  "language_info": {
   "codemirror_mode": {
    "name": "ipython",
    "version": 3
   },
   "file_extension": ".py",
   "mimetype": "text/x-python",
   "name": "python",
   "nbconvert_exporter": "python",
   "pygments_lexer": "ipython3",
   "version": "3.8.8"
  }
 },
 "nbformat": 4,
 "nbformat_minor": 5
}
